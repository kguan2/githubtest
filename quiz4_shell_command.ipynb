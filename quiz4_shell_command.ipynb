{
  "nbformat": 4,
  "nbformat_minor": 0,
  "metadata": {
    "colab": {
      "name": "quiz4 shell command.ipynb",
      "provenance": [],
      "collapsed_sections": [],
      "authorship_tag": "ABX9TyPnO5jHYUdGc1brIjQIKKdf",
      "include_colab_link": true
    },
    "kernelspec": {
      "name": "python3",
      "display_name": "Python 3"
    }
  },
  "cells": [
    {
      "cell_type": "markdown",
      "metadata": {
        "id": "view-in-github",
        "colab_type": "text"
      },
      "source": [
        "<a href=\"https://colab.research.google.com/github/kguan2/githubtest/blob/master/quiz4_shell_command.ipynb\" target=\"_parent\"><img src=\"https://colab.research.google.com/assets/colab-badge.svg\" alt=\"Open In Colab\"/></a>"
      ]
    },
    {
      "cell_type": "code",
      "metadata": {
        "colab": {
          "base_uri": "https://localhost:8080/"
        },
        "id": "CyLsb_TlWqRg",
        "outputId": "8e6f7043-677e-4f3d-e3a0-a404e71ab348"
      },
      "source": [
        "!wget http://archive.ics.uci.edu/ml/machine-learning-databases/adult/adult.data"
      ],
      "execution_count": 60,
      "outputs": [
        {
          "output_type": "stream",
          "text": [
            "--2021-02-24 00:32:29--  http://archive.ics.uci.edu/ml/machine-learning-databases/adult/adult.data\n",
            "Resolving archive.ics.uci.edu (archive.ics.uci.edu)... 128.195.10.252\n",
            "Connecting to archive.ics.uci.edu (archive.ics.uci.edu)|128.195.10.252|:80... connected.\n",
            "HTTP request sent, awaiting response... 200 OK\n",
            "Length: 3974305 (3.8M) [application/x-httpd-php]\n",
            "Saving to: ‘adult.data.3’\n",
            "\n",
            "adult.data.3        100%[===================>]   3.79M  7.34MB/s    in 0.5s    \n",
            "\n",
            "2021-02-24 00:32:30 (7.34 MB/s) - ‘adult.data.3’ saved [3974305/3974305]\n",
            "\n"
          ],
          "name": "stdout"
        }
      ]
    },
    {
      "cell_type": "code",
      "metadata": {
        "colab": {
          "base_uri": "https://localhost:8080/"
        },
        "id": "tWK7QKZzW-H0",
        "outputId": "388038a8-4e8b-476d-e7c2-26746c70544c"
      },
      "source": [
        "!wc -l adult.data"
      ],
      "execution_count": 61,
      "outputs": [
        {
          "output_type": "stream",
          "text": [
            "32562 adult.data\n"
          ],
          "name": "stdout"
        }
      ]
    },
    {
      "cell_type": "code",
      "metadata": {
        "colab": {
          "base_uri": "https://localhost:8080/"
        },
        "id": "bHC6OTznY5Vd",
        "outputId": "9909209f-26ed-4018-840d-e5eca1eccd16"
      },
      "source": [
        "!wc -w adult.data"
      ],
      "execution_count": 62,
      "outputs": [
        {
          "output_type": "stream",
          "text": [
            "488415 adult.data\n"
          ],
          "name": "stdout"
        }
      ]
    },
    {
      "cell_type": "code",
      "metadata": {
        "colab": {
          "base_uri": "https://localhost:8080/"
        },
        "id": "dGP4O13TY-3i",
        "outputId": "1a4e80b6-1405-4e2a-bc87-d862ceb5acf0"
      },
      "source": [
        "!head -n 2 adult.data"
      ],
      "execution_count": 63,
      "outputs": [
        {
          "output_type": "stream",
          "text": [
            "39, State-gov, 77516, Bachelors, 13, Never-married, Adm-clerical, Not-in-family, White, Male, 2174, 0, 40, United-States, <=50K\n",
            "50, Self-emp-not-inc, 83311, Bachelors, 13, Married-civ-spouse, Exec-managerial, Husband, White, Male, 0, 0, 13, United-States, <=50K\n"
          ],
          "name": "stdout"
        }
      ]
    },
    {
      "cell_type": "code",
      "metadata": {
        "id": "edtj6x5cZRId"
      },
      "source": [
        "!echo \"age,workclass,fnlwgt,education,education-num,marital-status,occupation,relationship,race,sex,capital-gain,capital-loss,native-country,class\" > header.csv"
      ],
      "execution_count": 64,
      "outputs": []
    },
    {
      "cell_type": "code",
      "metadata": {
        "id": "wSOZt04IZ9ae"
      },
      "source": [
        "!cat header.csv adult.data > adult.csv"
      ],
      "execution_count": 75,
      "outputs": []
    },
    {
      "cell_type": "code",
      "metadata": {
        "colab": {
          "base_uri": "https://localhost:8080/"
        },
        "id": "Cxby_wHzaFK3",
        "outputId": "5f1583b6-0c95-48e1-8252-bcefcbf6833e"
      },
      "source": [
        "!head -n 1 adult.csv"
      ],
      "execution_count": 76,
      "outputs": [
        {
          "output_type": "stream",
          "text": [
            "age,workclass,fnlwgt,education,education-num,marital-status,occupation,relationship,race,sex,capital-gain,capital-loss,native-country,class\n"
          ],
          "name": "stdout"
        }
      ]
    },
    {
      "cell_type": "code",
      "metadata": {
        "colab": {
          "base_uri": "https://localhost:8080/"
        },
        "id": "EXo5VbZ5aM83",
        "outputId": "3872cdbe-3ee7-451f-9fa4-b8cf8c185ae8"
      },
      "source": [
        "!grep \", ?,\" adult.csv | wc -l"
      ],
      "execution_count": 77,
      "outputs": [
        {
          "output_type": "stream",
          "text": [
            "2399\n"
          ],
          "name": "stdout"
        }
      ]
    },
    {
      "cell_type": "code",
      "metadata": {
        "id": "FAlkBmuNacVP"
      },
      "source": [
        "!sed \"s/, ?,/,,/g\" adult.csv >  adult.csv"
      ],
      "execution_count": 74,
      "outputs": []
    },
    {
      "cell_type": "code",
      "metadata": {
        "id": "szRvyM5oalVq"
      },
      "source": [
        "!head -n 120 adult.csv | tail -n 20 > adult_sample.csv"
      ],
      "execution_count": 78,
      "outputs": []
    },
    {
      "cell_type": "code",
      "metadata": {
        "id": "0A9nWRL9at4D"
      },
      "source": [
        "!cat adult_sample.csv header.csv > adult_sample_with_header.csv"
      ],
      "execution_count": 80,
      "outputs": []
    },
    {
      "cell_type": "code",
      "metadata": {
        "colab": {
          "base_uri": "https://localhost:8080/"
        },
        "id": "jr5JTcQ3bAW6",
        "outputId": "993a55e8-1588-474a-965b-dd2b7dff566f"
      },
      "source": [
        "!sort adult.csv | uniq -d| wc -l"
      ],
      "execution_count": 81,
      "outputs": [
        {
          "output_type": "stream",
          "text": [
            "23\n"
          ],
          "name": "stdout"
        }
      ]
    },
    {
      "cell_type": "code",
      "metadata": {
        "colab": {
          "base_uri": "https://localhost:8080/"
        },
        "id": "WnuV0noWbKBN",
        "outputId": "5a98e32b-9e25-4da0-d880-0d05a091a667"
      },
      "source": [
        "!sort adult.csv | uniq -c | sort -r | head -n 3"
      ],
      "execution_count": 82,
      "outputs": [
        {
          "output_type": "stream",
          "text": [
            "      3 25, Private, 195994, 1st-4th, 2, Never-married, Priv-house-serv, Not-in-family, White, Female, 0, 0, 40, Guatemala, <=50K\n",
            "      2 90, Private, 52386, Some-college, 10, Never-married, Other-service, Not-in-family, Asian-Pac-Islander, Male, 0, 0, 35, United-States, <=50K\n",
            "      2 49, Self-emp-not-inc, 43479, Some-college, 10, Married-civ-spouse, Craft-repair, Husband, White, Male, 0, 0, 40, United-States, <=50K\n"
          ],
          "name": "stdout"
        }
      ]
    },
    {
      "cell_type": "code",
      "metadata": {
        "colab": {
          "base_uri": "https://localhost:8080/"
        },
        "id": "7meKjRoKdzcX",
        "outputId": "a338146a-8d19-4653-ce9a-96746fe41d55"
      },
      "source": [
        "!cut -d \",\" -f 2 adult.csv | head -3"
      ],
      "execution_count": 83,
      "outputs": [
        {
          "output_type": "stream",
          "text": [
            "workclass\n",
            " State-gov\n",
            " Self-emp-not-inc\n"
          ],
          "name": "stdout"
        }
      ]
    },
    {
      "cell_type": "code",
      "metadata": {
        "colab": {
          "base_uri": "https://localhost:8080/"
        },
        "id": "F0EXxs0Hd8Ku",
        "outputId": "43341291-efe8-4ab1-8c8d-b2f7f6dba1e7"
      },
      "source": [
        "!cut -d \",\" -f 2 adult.csv | sort | uniq -c"
      ],
      "execution_count": 84,
      "outputs": [
        {
          "output_type": "stream",
          "text": [
            "      1 \n",
            "   1836  ?\n",
            "    960  Federal-gov\n",
            "   2093  Local-gov\n",
            "      7  Never-worked\n",
            "  22696  Private\n",
            "   1116  Self-emp-inc\n",
            "   2541  Self-emp-not-inc\n",
            "   1298  State-gov\n",
            "     14  Without-pay\n",
            "      1 workclass\n"
          ],
          "name": "stdout"
        }
      ]
    }
  ]
}